{
 "cells": [
  {
   "cell_type": "code",
   "execution_count": 1,
   "metadata": {},
   "outputs": [],
   "source": [
    "from selenium import webdriver\n",
    "from webdriver_manager.chrome import ChromeDriverManager\n",
    "from selenium.webdriver.common.by import By\n",
    "from selenium.webdriver.support.ui import Select\n",
    "from selenium.webdriver.chrome.options import Options\n",
    "from selenium.webdriver.chrome.service import Service\n",
    "from bs4 import BeautifulSoup\n",
    "from PIL import Image\n",
    "import numpy as np\n",
    "import json\n",
    "from time import sleep\n",
    "\n"
   ]
  },
  {
   "cell_type": "code",
   "execution_count": 23,
   "metadata": {},
   "outputs": [],
   "source": [
    "options = Options()\n",
    "driver = webdriver.Chrome(options=options)"
   ]
  },
  {
   "cell_type": "code",
   "execution_count": 24,
   "metadata": {},
   "outputs": [],
   "source": [
    "with open('settings.json',\"r\", encoding=\"utf-8\") as f:\n",
    "    login_password = json.load(f)\n",
    "log_path = 'https://mapa-turystyczna.pl/login'\n",
    "path ='https://mapa-turystyczna.pl/account/route/2151079'"
   ]
  },
  {
   "cell_type": "code",
   "execution_count": 25,
   "metadata": {},
   "outputs": [],
   "source": [
    "driver.get(log_path)"
   ]
  },
  {
   "cell_type": "code",
   "execution_count": 26,
   "metadata": {},
   "outputs": [],
   "source": [
    "#accept cookies\n",
    "driver.find_element(By.CLASS_NAME,'fc-button-label').click()\n"
   ]
  },
  {
   "cell_type": "code",
   "execution_count": 28,
   "metadata": {},
   "outputs": [],
   "source": [
    "#login \n",
    "driver.find_element(By.NAME,\"signin[username]\").send_keys(login_password[\"login\"]) \n",
    "driver.find_element(By.NAME,\"signin[password]\").send_keys(login_password[\"password\"]) \n",
    "driver.find_element(By.CSS_SELECTOR,'.mdl-button--primary.mdl-button--primary.mdl-button--raised').click()\n",
    "sleep(2)\n",
    "\n"
   ]
  },
  {
   "cell_type": "code",
   "execution_count": 29,
   "metadata": {},
   "outputs": [],
   "source": [
    "driver.get(path)"
   ]
  },
  {
   "cell_type": "code",
   "execution_count": 30,
   "metadata": {},
   "outputs": [],
   "source": [
    "# get html code to scrap data such as distance\n",
    "html = driver.page_source\n"
   ]
  },
  {
   "cell_type": "code",
   "execution_count": 32,
   "metadata": {},
   "outputs": [
    {
     "data": {
      "text/plain": [
       "'Zadni Granat, 2240 m n.p.m.'"
      ]
     },
     "execution_count": 32,
     "metadata": {},
     "output_type": "execute_result"
    }
   ],
   "source": [
    "soup = BeautifulSoup(html)\n",
    "soup.find('div', class_='ts-user-route__data-inline-item').get_text()[25:].replace('\\n','').replace('\\t','').replace(',',', ')"
   ]
  },
  {
   "cell_type": "code",
   "execution_count": 33,
   "metadata": {},
   "outputs": [
    {
     "data": {
      "text/plain": [
       "2240"
      ]
     },
     "execution_count": 33,
     "metadata": {},
     "output_type": "execute_result"
    }
   ],
   "source": [
    "soup = BeautifulSoup(html)\n",
    "hightest_point =soup.find('div', class_='ts-user-route__data-inline-item').get_text()[25:].replace('\\n','').replace('\\t','').replace(',',', ')\n",
    "index = hightest_point.find('m n.p.m')\n",
    "max_height = int(hightest_point[index-5:index -1])\n",
    "max_height"
   ]
  },
  {
   "cell_type": "code",
   "execution_count": 43,
   "metadata": {},
   "outputs": [],
   "source": [
    "data = soup.find_all(\"span\", class_= 'ts-user-activity__data-item-value ts-user-activity__data-item-value--primary')\n",
    "distance = data[0].get_text().strip()\n",
    "true_time = data[1].get_text().split(\"h\")[0].strip()\n",
    "up = data[2].get_text().strip()\n",
    "down = data[3].get_text().strip()"
   ]
  },
  {
   "cell_type": "code",
   "execution_count": 44,
   "metadata": {},
   "outputs": [
    {
     "name": "stdout",
     "output_type": "stream",
     "text": [
      "1025 <class 'int'>\n",
      "1025 ---------------------------\n",
      "1017.0900000000588 <class 'float'>\n",
      "1017.0900000000588 ---------------------------\n",
      "1498.9999999998345 <class 'float'>\n",
      "1508.993252800002 <class 'float'>\n",
      "1516.2091814399603 <class 'float'>\n",
      "1507.667199999987 <class 'float'>\n",
      "1509.289647999984 <class 'float'>\n",
      "1627.5286156799905 <class 'float'>\n",
      "1636.999999999974 <class 'float'>\n",
      "1766.0000000003893 <class 'float'>\n",
      "1854.0371728000664 <class 'float'>\n",
      "1934.892065600045 <class 'float'>\n",
      "2166.6520831999546 <class 'float'>\n",
      "2239.9999999995794 <class 'float'>\n",
      "2225.000000000473 <class 'float'>\n",
      "2208.3702792249433 <class 'float'>\n",
      "1636.999999999974 <class 'float'>\n",
      "1627.5286156799905 <class 'float'>\n",
      "1509.289647999984 <class 'float'>\n",
      "1507.667199999987 <class 'float'>\n",
      "1516.2091814399603 <class 'float'>\n",
      "1508.993252800002 <class 'float'>\n",
      "1498.9999999998345 <class 'float'>\n",
      "1094.0096000000194 <class 'float'>\n",
      "1017.0900000000588 <class 'float'>\n",
      "1025 <class 'int'>\n",
      "2240 1017.0900000000588\n"
     ]
    }
   ],
   "source": [
    "profil_json= json.loads(soup.find('div', class_=\"ts-user-activity__profile ts-profile-container\").attrs[\"data-profile\"])\n",
    "min_height = 2000\n",
    "for dict in profil_json['segments']:\n",
    "    # print(dict)\n",
    "    temp = dict['elevation']\n",
    "    print(temp, type(temp))\n",
    "    if temp < min_height:\n",
    "    \n",
    "        min_height = temp\n",
    "        print(min_height, '---------------------------')\n",
    "\n",
    "print(max_height, min_height)\n",
    "elevation = f'{int(max_height - min_height)} m'"
   ]
  },
  {
   "cell_type": "code",
   "execution_count": 45,
   "metadata": {},
   "outputs": [
    {
     "data": {
      "text/plain": [
       "'1222 m'"
      ]
     },
     "execution_count": 45,
     "metadata": {},
     "output_type": "execute_result"
    }
   ],
   "source": [
    "elevation"
   ]
  },
  {
   "cell_type": "code",
   "execution_count": 46,
   "metadata": {},
   "outputs": [
    {
     "data": {
      "text/plain": [
       "'10:14'"
      ]
     },
     "execution_count": 46,
     "metadata": {},
     "output_type": "execute_result"
    }
   ],
   "source": [
    "true_time"
   ]
  },
  {
   "cell_type": "code",
   "execution_count": 51,
   "metadata": {},
   "outputs": [],
   "source": [
    "def true_time_to_time(scrap_time : str , mul : float ):  \n",
    "    \"\"\"Czas zeskrapowany w formacie hh:mm  zminia na sa hh  mnożąc czas przes zdefiniowaną stałą np \n",
    "    4:47 h zmienia na 6 h dla stałej wynoszącej 1.2\"\"\"\n",
    "    \n",
    "    return str(round((int(scrap_time[:-3]) + int(scrap_time[-2:])/60) * mul )) + ' h'"
   ]
  },
  {
   "cell_type": "code",
   "execution_count": 52,
   "metadata": {},
   "outputs": [
    {
     "data": {
      "text/plain": [
       "'12 h'"
      ]
     },
     "execution_count": 52,
     "metadata": {},
     "output_type": "execute_result"
    }
   ],
   "source": [
    "true_time_to_time(true_time,1.2)"
   ]
  },
  {
   "cell_type": "code",
   "execution_count": 53,
   "metadata": {},
   "outputs": [
    {
     "data": {
      "text/plain": [
       "':1'"
      ]
     },
     "execution_count": 53,
     "metadata": {},
     "output_type": "execute_result"
    }
   ],
   "source": [
    "true_time[2:4]"
   ]
  },
  {
   "cell_type": "code",
   "execution_count": 54,
   "metadata": {},
   "outputs": [
    {
     "name": "stdout",
     "output_type": "stream",
     "text": [
      "1017.0900000000588\n",
      "1222 m\n"
     ]
    }
   ],
   "source": [
    "\n",
    "profil_json= json.loads(soup.find('div', class_=\"ts-user-activity__profile ts-profile-container\").attrs[\"data-profile\"])\n",
    "\n",
    "min_height = 2000\n",
    "for dict in profil_json['segments']:\n",
    "    # print(dict)\n",
    "    temp = dict['elevation']\n",
    "    if temp < min_height:\n",
    "        min_height = temp\n",
    "\n",
    "print(min_height)\n",
    "elevation_gain = f'{int(max_height - min_height)} m'\n",
    "print(elevation_gain)"
   ]
  },
  {
   "cell_type": "code",
   "execution_count": 55,
   "metadata": {},
   "outputs": [
    {
     "data": {
      "text/plain": [
       "True"
      ]
     },
     "execution_count": 55,
     "metadata": {},
     "output_type": "execute_result"
    }
   ],
   "source": [
    "#go to proile and save it \n",
    "driver.get(path + '/profile')\n",
    "sleep(1)\n",
    "select = Select(driver.find_element(By.ID,'profile-size-type'))\n",
    "select.select_by_visible_text('Szeroki')\n",
    "driver.find_element(By.ID,'ts-ep-static').screenshot('zdjecie.png')"
   ]
  },
  {
   "cell_type": "code",
   "execution_count": 59,
   "metadata": {},
   "outputs": [],
   "source": [
    "#cover time in profile\n",
    "img= Image.open('zdjecie.png')\n",
    "im = np.array(img)\n",
    "im[0:65,0:400] = [255, 255, 255, 255]\n",
    "Image.fromarray(im).save('zdjecie.png')"
   ]
  },
  {
   "cell_type": "markdown",
   "metadata": {},
   "source": []
  },
  {
   "cell_type": "code",
   "execution_count": 60,
   "metadata": {},
   "outputs": [
    {
     "data": {
      "text/plain": [
       "(362, 909, 4)"
      ]
     },
     "execution_count": 60,
     "metadata": {},
     "output_type": "execute_result"
    }
   ],
   "source": [
    "im.shape"
   ]
  },
  {
   "cell_type": "code",
   "execution_count": 61,
   "metadata": {},
   "outputs": [
    {
     "data": {
      "image/png": "[encoded data removed]",
      "text/plain": [
       "<PIL.PngImagePlugin.PngImageFile image mode=RGBA size=909x362>"
      ]
     },
     "execution_count": 61,
     "metadata": {},
     "output_type": "execute_result"
    }
   ],
   "source": [
    "img"
   ]
  },
  {
   "cell_type": "code",
   "execution_count": null,
   "metadata": {},
   "outputs": [],
   "source": []
  }
 ],
 "metadata": {
  "kernelspec": {
   "display_name": "Python 3.7.9 64-bit",
   "language": "python",
   "name": "python3"
  },
  "language_info": {
   "codemirror_mode": {
    "name": "ipython",
    "version": 3
   },
   "file_extension": ".py",
   "mimetype": "text/x-python",
   "name": "python",
   "nbconvert_exporter": "python",
   "pygments_lexer": "ipython3",
   "version": "3.11.3"
  },
  "orig_nbformat": 4,
  "vscode": {
   "interpreter": {
    "hash": "6fe1c782b1ce644a7249b60894882dc712170c605cbe70c487a65803b7cd19d5"
   }
  }
 },
 "nbformat": 4,
 "nbformat_minor": 2
}
