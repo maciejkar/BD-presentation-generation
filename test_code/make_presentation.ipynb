{
 "cells": [
  {
   "cell_type": "code",
   "execution_count": 101,
   "metadata": {},
   "outputs": [],
   "source": [
    "from pptx import Presentation\n",
    "from pptx.dml.color import RGBColor\n",
    "from PIL import Image\n",
    "from pptx.util import Inches \n",
    "from pptx.util import Pt\n",
    "import os\n",
    "import numpy as np\n",
    "import json"
   ]
  },
  {
   "cell_type": "code",
   "execution_count": 102,
   "metadata": {},
   "outputs": [],
   "source": [
    "def text_in_presentation(presntation,nr_slide , nr_shape , text,font_size= 66,font_name = 'Calibri'):\n",
    "    text_frame = presntation.slides[nr_slide].shapes[nr_shape].text_frame\n",
    "    text_frame.clear()\n",
    "    p = text_frame.paragraphs[0]\n",
    "    run = p.add_run()\n",
    "    font = run.font\n",
    "    font.size = Pt(font_size)\n",
    "    font.name = font_name\n",
    "    font.color.rgb = RGBColor(0xFF, 0xFF, 0xFF)\n",
    "    run.text = text"
   ]
  },
  {
   "cell_type": "code",
   "execution_count": 103,
   "metadata": {},
   "outputs": [],
   "source": [
    "prs = Presentation('templates\\Templatka (Orla na Piątkę).pptx')"
   ]
  },
  {
   "cell_type": "code",
   "execution_count": 104,
   "metadata": {},
   "outputs": [],
   "source": [
    "with open('settings.json') as  f:\n",
    "    settings = json.load(f)\n",
    "PRS_WIDTH_INCHES = settings['presentation_width_inches']\n",
    "PRS_HEIGHT_INCHES = settings['presentation_height_inches']\n",
    "PIXELS_PER_INCH = settings['pixels_per_inch']\n",
    "\n",
    "level = 6\n",
    "name_of_route = ' Dolina 5 stawów'\n",
    "heightest_point = 'Chełmiec, 851 m n.p.m.'\n",
    "elevation = '600 m'\n",
    "up = '700 m'\n",
    "down = '701 m'\n",
    "distance = '20 km'\n",
    "time = '7h'\n",
    "leader = 'Maciej Karczewski'\n",
    "path_profile = 'zdjecie.png'\n",
    "path_route = 'route.jpg'\n",
    "warnings= ['Ekspozycja' , 'sybkie tempo']\n"
   ]
  },
  {
   "cell_type": "code",
   "execution_count": 105,
   "metadata": {},
   "outputs": [
    {
     "data": {
      "text/plain": [
       "{'login': 'SDA MOST Turystyka',\n",
       " 'password': 'biaĹ‚ydunajec',\n",
       " 'time_multiplier': 1.2,\n",
       " 'path_route': 'route.jpg',\n",
       " 'first_view': '1.jpg',\n",
       " 'second_view': '2.jpg',\n",
       " 'third_view': '3.jpg',\n",
       " 'presentation_width_inches': 13.33,\n",
       " 'presentation_height_inches': 7.5,\n",
       " 'pixels_per_inch': 96}"
      ]
     },
     "execution_count": 105,
     "metadata": {},
     "output_type": "execute_result"
    }
   ],
   "source": [
    "settings"
   ]
  },
  {
   "cell_type": "code",
   "execution_count": 106,
   "metadata": {},
   "outputs": [],
   "source": [
    "# text_in_presentation(prs,nr_slide =0,nr_shape=0,text=f'{name_of_route} \\n Poziom trudności: {level} ',font_size=66)\n",
    "# text_in_presentation(prs,nr_slide =1,nr_shape=3,text=f'Najwyższy szczyt: {heightest_point} ',font_size=28)\n",
    "# text_in_presentation(prs,nr_slide =1,nr_shape=4,text=f'Przewyższenie: {elevation} ',font_size=28)\n",
    "# text_in_presentation(prs,nr_slide =1,nr_shape=5,text=f'Podejście: {up} ',font_size=28)\n",
    "# text_in_presentation(prs,nr_slide =1,nr_shape=6,text=f'Zejście: {down} ',font_size=28)\n",
    "# text_in_presentation(prs,nr_slide =1,nr_shape=7,text=f'Szacowany czas przejścia: {time} ',font_size=28)\n",
    "# text_in_presentation(prs,nr_slide =1,nr_shape=8,text=f'Długość: {distance} ',font_size=28)\n",
    "# text_in_presentation(prs,nr_slide =6,nr_shape=0,text=f'Prowadzi \\n {leader}',font_size=66)\n",
    "\n",
    "\n",
    "text_in_presentation(prs,nr_slide =0,nr_shape=0,text=f'{name_of_route} \\n Poziom trudności: {level} ',font_size=66)\n",
    "text_in_presentation(prs,nr_slide =1,nr_shape=2,text=f'Najwyższy szczyt: {heightest_point} ',font_size=28)\n",
    "text_in_presentation(prs,nr_slide =1,nr_shape=3,text=f'Przewyższenie: {elevation} ',font_size=28)\n",
    "text_in_presentation(prs,nr_slide =1,nr_shape=4,text=f'Podejście: {up} ',font_size=28)\n",
    "text_in_presentation(prs,nr_slide =1,nr_shape=5,text=f'Zejście: {down} ',font_size=28)\n",
    "text_in_presentation(prs,nr_slide =1,nr_shape=6,text=f'Szacowany czas przejścia: {time} ',font_size=28)\n",
    "text_in_presentation(prs,nr_slide =1,nr_shape=7,text=f'Długość: {distance} ',font_size=28)\n",
    "text_in_presentation(prs,nr_slide =6,nr_shape=0,text=f'Prowadzi \\n {leader}',font_size=66)\n",
    "text_in_presentation(prs,nr_slide =5,nr_shape=0,text=f'Uwagi:',font_size=56)"
   ]
  },
  {
   "cell_type": "code",
   "execution_count": 107,
   "metadata": {},
   "outputs": [
    {
     "data": {
      "text/plain": [
       "<pptx.shapes.autoshape.Shape at 0x1fc0950a308>"
      ]
     },
     "execution_count": 107,
     "metadata": {},
     "output_type": "execute_result"
    }
   ],
   "source": [
    "prs.slides[5].shapes.add_textbox(left = Inches(1.5), top=Inches(2.2), width = Inches(10), height = Inches(4.5))\n"
   ]
  },
  {
   "cell_type": "code",
   "execution_count": 108,
   "metadata": {},
   "outputs": [],
   "source": [
    "\n",
    "text_frame = prs.slides[5].shapes[1].text_frame\n",
    "text_frame.clear()\n",
    "for  text in warnings:\n",
    "    p = text_frame.add_paragraph()\n",
    "    run = p.add_run()\n",
    "    font = run.font\n",
    "    font.size = Pt(48)\n",
    "    font.name = 'Calibra'\n",
    "    font.color.rgb = RGBColor(0xFF, 0xFF, 0xFF)\n",
    "    run.text = f'- {text} '"
   ]
  },
  {
   "cell_type": "code",
   "execution_count": 109,
   "metadata": {},
   "outputs": [
    {
     "data": {
      "text/plain": [
       "<pptx.shapes.picture.Picture at 0x1fc09536188>"
      ]
     },
     "execution_count": 109,
     "metadata": {},
     "output_type": "execute_result"
    }
   ],
   "source": [
    "# \n",
    "prs.slides[3].shapes.add_picture(path_profile,left=Inches(1),top=Inches(1), width=Inches(PRS_WIDTH_INCHES - 2), height=Inches(5))"
   ]
  },
  {
   "cell_type": "code",
   "execution_count": 110,
   "metadata": {},
   "outputs": [],
   "source": [
    "\n",
    "height, width, _ = np.array(Image.open(path_route)).shape"
   ]
  },
  {
   "cell_type": "code",
   "execution_count": 111,
   "metadata": {},
   "outputs": [],
   "source": [
    "def requaried_new_size_image(path_of_image , max_height = (PRS_HEIGHT_INCHES -1) * PIXELS_PER_INCH, max_width= (PRS_WIDTH_INCHES - 1 ) * PIXELS_PER_INCH):\n",
    "    \"\"\"Function give optimal size wich can be on presentation with keeping size ratio\n",
    "    @pam path_of_image: str path to image\n",
    "    @pam max_width: int max width of image in pixels\n",
    "    @pam max_height: int max height of image in pixels\n",
    "    @return: new_height , new_width: tuple with optimal size in Inches\"\"\"\n",
    "    print('Wwołanie')\n",
    "\n",
    "    height, width, _ = np.array(Image.open(path_of_image)).shape\n",
    "\n",
    "    if height >= max_height and width >= max_width:\n",
    "        print('Tutaj 1')\n",
    "        if height/ max_height < width / max_width:\n",
    "            print('Wersja 1')\n",
    "            new_height = max_height\n",
    "            new_width = max_width * height/ width\n",
    "        else:\n",
    "            print('Wersja 2')\n",
    "            new_width = max_width\n",
    "            new_height = max_height * width/ height\n",
    "    elif height >= max_height:\n",
    "        print('Tutaj 2')\n",
    "        print(height)\n",
    "        new_height = max_height\n",
    "        new_width = max_width * height/ width\n",
    "        print(new_height)\n",
    "    elif width >= max_width:\n",
    "        print('Tutaj 3')\n",
    "        new_width = max_width\n",
    "        new_height = max_height * width/ height\n",
    "    else:\n",
    "        print('Tutaj 4')\n",
    "        if height/ max_height < width / max_width:\n",
    "            print('Przypadek 1')\n",
    "            new_height = max_height\n",
    "            new_width = max_width * height/ width\n",
    "        else:\n",
    "            print('Przypadek 2')\n",
    "            new_width = max_width\n",
    "            new_height = max_height * width/ height\n",
    "    return new_height / PIXELS_PER_INCH , new_width / PIXELS_PER_INCH\n",
    "\n",
    "\n"
   ]
  },
  {
   "cell_type": "code",
   "execution_count": 112,
   "metadata": {},
   "outputs": [
    {
     "name": "stdout",
     "output_type": "stream",
     "text": [
      "6858000 12192000 1.7777777777777777 1.7777777777777777\n"
     ]
    }
   ],
   "source": [
    "print(prs.slide_height , prs.slide_width, prs.slide_width /prs.slide_height , 16/9) "
   ]
  },
  {
   "cell_type": "code",
   "execution_count": 113,
   "metadata": {},
   "outputs": [],
   "source": [
    "# height , width = requaried_new_size_image(settings['first_image'],max_width= (PRS_WIDTH_INCHES -1 )* PIXELS_PER_INCH / 2)\n",
    "# left = (PRS_WIDTH_INCHES/ 2 - width) /2 + PRS_WIDTH_INCHES/2\n",
    "# top = (PRS_HEIGHT_INCHES - height )/ 2\n",
    "# prs.slides[1].shapes.add_picture(settings['first_image'], left= Inches(left), top= Inches(top), width = Inches(width), height = Inches(height))"
   ]
  },
  {
   "cell_type": "code",
   "execution_count": 114,
   "metadata": {},
   "outputs": [],
   "source": [
    "# height , width = requaried_new_size_image(settings['second_image'],max_height = (PRS_HEIGHT_INCHES -2.5) * PIXELS_PER_INCH, max_width= (PRS_WIDTH_INCHES -1 )* PIXELS_PER_INCH / 2)\n",
    "# left = (PRS_WIDTH_INCHES/ 2 - width) /2 \n",
    "# top = (PRS_HEIGHT_INCHES + 1.5  - height )/ 2 \n",
    "# prs.slides[2].shapes.add_picture(settings['second_image'], left= Inches(left), top= Inches(top), width = Inches(width), height = Inches(height))\n",
    "\n",
    "# height , width = requaried_new_size_image(settings['third_image'],max_height = (PRS_HEIGHT_INCHES -2.5) * PIXELS_PER_INCH,max_width= (PRS_WIDTH_INCHES -1 )* PIXELS_PER_INCH / 2)\n",
    "# left = (PRS_WIDTH_INCHES/ 2 - width) /2 + PRS_WIDTH_INCHES/2\n",
    "# top = (PRS_HEIGHT_INCHES + 1.5 - height )/ 2 \n",
    "# prs.slides[2].shapes.add_picture(settings['third_image'], left= Inches(left), top= Inches(top), width = Inches(width), height = Inches(height))\n"
   ]
  },
  {
   "cell_type": "code",
   "execution_count": 115,
   "metadata": {},
   "outputs": [
    {
     "name": "stdout",
     "output_type": "stream",
     "text": [
      "Wwołanie\n",
      "Tutaj 2\n",
      "797\n",
      "624.0\n"
     ]
    },
    {
     "data": {
      "text/plain": [
       "<pptx.shapes.picture.Picture at 0x1fc0953ec88>"
      ]
     },
     "execution_count": 115,
     "metadata": {},
     "output_type": "execute_result"
    }
   ],
   "source": [
    "height , width = requaried_new_size_image(path_route)\n",
    "left = (PRS_WIDTH_INCHES - width )/ 2\n",
    "top = (PRS_HEIGHT_INCHES - height )/ 2\n",
    "prs.slides[4].shapes.add_picture(path_route, left=Inches(left),top=Inches(top), width= Inches(width) , height=Inches(height))\n",
    "# prs.slides[4].shapes.add_picture(path_route, left=Inches(1),top=Inches(1))\n",
    "# width=Inches(11), height=Inches(7)\n",
    "# prs.slides[4].shapes.add_picture(path_route, left=Inches(1),top=Inches(1), width= Inches(12) )"
   ]
  },
  {
   "cell_type": "code",
   "execution_count": 116,
   "metadata": {},
   "outputs": [
    {
     "data": {
      "text/plain": [
       "0"
      ]
     },
     "execution_count": 116,
     "metadata": {},
     "output_type": "execute_result"
    }
   ],
   "source": [
    "prs.save(\"testy.pptx\")\n",
    "os.system(\"testy.pptx\")"
   ]
  },
  {
   "cell_type": "code",
   "execution_count": 117,
   "metadata": {},
   "outputs": [],
   "source": [
    "uwagi = ' ekspozycja , szybkie tempo '"
   ]
  },
  {
   "cell_type": "code",
   "execution_count": 124,
   "metadata": {},
   "outputs": [
    {
     "data": {
      "text/plain": [
       "['ekspozycja', 'szybkie tempo']"
      ]
     },
     "execution_count": 124,
     "metadata": {},
     "output_type": "execute_result"
    }
   ],
   "source": [
    "\n",
    "list(map(str.strip ,uwagi.split(',')))\n"
   ]
  },
  {
   "cell_type": "code",
   "execution_count": 125,
   "metadata": {},
   "outputs": [],
   "source": [
    "time = '11:44'"
   ]
  },
  {
   "cell_type": "code",
   "execution_count": 127,
   "metadata": {},
   "outputs": [
    {
     "data": {
      "text/plain": [
       "'11'"
      ]
     },
     "execution_count": 127,
     "metadata": {},
     "output_type": "execute_result"
    }
   ],
   "source": [
    "time[:-3]"
   ]
  },
  {
   "cell_type": "code",
   "execution_count": 131,
   "metadata": {},
   "outputs": [
    {
     "data": {
      "text/plain": [
       "'b'"
      ]
     },
     "execution_count": 131,
     "metadata": {},
     "output_type": "execute_result"
    }
   ],
   "source": [
    "[a for a in ['baba','c','d'] if a == 'baba' ][0][:-3]"
   ]
  },
  {
   "cell_type": "code",
   "execution_count": null,
   "metadata": {},
   "outputs": [],
   "source": []
  }
 ],
 "metadata": {
  "kernelspec": {
   "display_name": "Python 3.7.9 64-bit",
   "language": "python",
   "name": "python3"
  },
  "language_info": {
   "codemirror_mode": {
    "name": "ipython",
    "version": 3
   },
   "file_extension": ".py",
   "mimetype": "text/x-python",
   "name": "python",
   "nbconvert_exporter": "python",
   "pygments_lexer": "ipython3",
   "version": "3.7.9"
  },
  "orig_nbformat": 4,
  "vscode": {
   "interpreter": {
    "hash": "6fe1c782b1ce644a7249b60894882dc712170c605cbe70c487a65803b7cd19d5"
   }
  }
 },
 "nbformat": 4,
 "nbformat_minor": 2
}
