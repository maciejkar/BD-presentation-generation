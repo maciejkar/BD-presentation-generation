{
 "cells": [
  {
   "cell_type": "code",
   "execution_count": 524,
   "metadata": {},
   "outputs": [],
   "source": [
    "from pptx import Presentation\n",
    "from pptx.dml.color import RGBColor\n",
    "from PIL import Image\n",
    "from pptx.util import Inches \n",
    "from pptx.util import Pt\n",
    "import os\n",
    "import numpy as np\n",
    "import json"
   ]
  },
  {
   "cell_type": "code",
   "execution_count": 525,
   "metadata": {},
   "outputs": [],
   "source": [
    "def text_in_presentation(presntation,nr_slide , nr_shape , text,font_size= 66,font_name = 'Calibri'):\n",
    "    text_frame = presntation.slides[nr_slide].shapes[nr_shape].text_frame\n",
    "    text_frame.clear()\n",
    "    p = text_frame.paragraphs[0]\n",
    "    run = p.add_run()\n",
    "    font = run.font\n",
    "    font.size = Pt(font_size)\n",
    "    font.name = font_name\n",
    "    font.color.rgb = RGBColor(0xFF, 0xFF, 0xFF)\n",
    "    run.text = text"
   ]
  },
  {
   "cell_type": "code",
   "execution_count": 526,
   "metadata": {},
   "outputs": [],
   "source": [
    "prs = Presentation('templates\\Templatka 1 (Orla na Piątkę).pptx')"
   ]
  },
  {
   "cell_type": "code",
   "execution_count": 527,
   "metadata": {},
   "outputs": [],
   "source": [
    "with open('settings.json') as  f:\n",
    "    settings = json.load(f)\n",
    "PRS_WIDTH_INCHES = settings['presentation_width_inches']\n",
    "PRS_HEIGHT_INCHES = settings['presentation_height_inches']\n",
    "PIXELS_PER_INCH = settings['pixels_per_inch']\n",
    "\n",
    "level = 6\n",
    "name_of_route = ' Dolina 5 stawów'\n",
    "heightest_point = 'Chełmiec, 851 m n.p.m.'\n",
    "elevation = '600 m'\n",
    "up = '700 m'\n",
    "down = '701 m'\n",
    "distance = '20 km'\n",
    "time = '7h'\n",
    "leader = 'Maciej Karczewski'\n",
    "path_profile = 'zdjecie.png'\n",
    "path_route = 'route.jpg'\n"
   ]
  },
  {
   "cell_type": "code",
   "execution_count": 528,
   "metadata": {},
   "outputs": [
    {
     "data": {
      "text/plain": [
       "{'login': 'SDA MOST Turystyka',\n",
       " 'password': 'biaĹ‚ydunajec',\n",
       " 'time_multiplier': 1.2,\n",
       " 'first_image': '1.jpg',\n",
       " 'second_image': '2.jpg',\n",
       " 'third_image': '3.jpg',\n",
       " 'presentation_width_inches': 13.33,\n",
       " 'presentation_height_inches': 7.5,\n",
       " 'pixels_per_inch': 96}"
      ]
     },
     "execution_count": 528,
     "metadata": {},
     "output_type": "execute_result"
    }
   ],
   "source": [
    "settings"
   ]
  },
  {
   "cell_type": "code",
   "execution_count": 529,
   "metadata": {},
   "outputs": [],
   "source": [
    "# text_in_presentation(prs,nr_slide =0,nr_shape=0,text=f'{name_of_route} \\n Poziom trudności: {level} ',font_size=66)\n",
    "# text_in_presentation(prs,nr_slide =1,nr_shape=3,text=f'Najwyższy szczyt: {heightest_point} ',font_size=28)\n",
    "# text_in_presentation(prs,nr_slide =1,nr_shape=4,text=f'Przewyższenie: {elevation} ',font_size=28)\n",
    "# text_in_presentation(prs,nr_slide =1,nr_shape=5,text=f'Podejście: {up} ',font_size=28)\n",
    "# text_in_presentation(prs,nr_slide =1,nr_shape=6,text=f'Zejście: {down} ',font_size=28)\n",
    "# text_in_presentation(prs,nr_slide =1,nr_shape=7,text=f'Szacowany czas przejścia: {time} ',font_size=28)\n",
    "# text_in_presentation(prs,nr_slide =1,nr_shape=8,text=f'Długość: {distance} ',font_size=28)\n",
    "# text_in_presentation(prs,nr_slide =6,nr_shape=0,text=f'Prowadzi \\n {leader}',font_size=66)\n",
    "\n",
    "\n",
    "text_in_presentation(prs,nr_slide =0,nr_shape=0,text=f'{name_of_route} \\n Poziom trudności: {level} ',font_size=66)\n",
    "text_in_presentation(prs,nr_slide =1,nr_shape=2,text=f'Najwyższy szczyt: {heightest_point} ',font_size=28)\n",
    "text_in_presentation(prs,nr_slide =1,nr_shape=3,text=f'Przewyższenie: {elevation} ',font_size=28)\n",
    "text_in_presentation(prs,nr_slide =1,nr_shape=4,text=f'Podejście: {up} ',font_size=28)\n",
    "text_in_presentation(prs,nr_slide =1,nr_shape=5,text=f'Zejście: {down} ',font_size=28)\n",
    "text_in_presentation(prs,nr_slide =1,nr_shape=6,text=f'Szacowany czas przejścia: {time} ',font_size=28)\n",
    "text_in_presentation(prs,nr_slide =1,nr_shape=7,text=f'Długość: {distance} ',font_size=28)\n",
    "text_in_presentation(prs,nr_slide =6,nr_shape=0,text=f'Prowadzi \\n {leader}',font_size=66)"
   ]
  },
  {
   "cell_type": "code",
   "execution_count": 530,
   "metadata": {},
   "outputs": [],
   "source": [
    "for shape in prs.slides[3].placeholders:\n",
    "    print(shape.name)"
   ]
  },
  {
   "cell_type": "code",
   "execution_count": 531,
   "metadata": {},
   "outputs": [
    {
     "data": {
      "text/plain": [
       "<pptx.shapes.picture.Picture at 0x1a24ce9f8c8>"
      ]
     },
     "execution_count": 531,
     "metadata": {},
     "output_type": "execute_result"
    }
   ],
   "source": [
    "# \n",
    "prs.slides[3].shapes.add_picture(path_profile,left=Inches(1),top=Inches(1), width=Inches(PRS_WIDTH_INCHES - 2), height=Inches(5))"
   ]
  },
  {
   "cell_type": "code",
   "execution_count": 532,
   "metadata": {},
   "outputs": [],
   "source": [
    "\n",
    "height, width, _ = np.array(Image.open(path_route)).shape"
   ]
  },
  {
   "cell_type": "code",
   "execution_count": 533,
   "metadata": {},
   "outputs": [],
   "source": [
    "def requaried_new_size_image(path_of_image , max_height = (PRS_HEIGHT_INCHES -1) * PIXELS_PER_INCH, max_width= (PRS_WIDTH_INCHES - 1 ) * PIXELS_PER_INCH):\n",
    "    \"\"\"Function give optimal size wich can be on presentation with keeping size ratio\n",
    "    @pam path_of_image: str path to image\n",
    "    @pam max_width: int max width of image in pixels\n",
    "    @pam max_height: int max height of image in pixels\n",
    "    @return: new_height , new_width: tuple with optimal size in Inches\"\"\"\n",
    "    print('Wwołanie')\n",
    "\n",
    "    height, width, _ = np.array(Image.open(path_of_image)).shape\n",
    "\n",
    "    if height >= max_height and width >= max_width:\n",
    "        print('Tutaj 1')\n",
    "        if height/ max_height < width / max_width:\n",
    "            print('Wersja 1')\n",
    "            new_height = max_height\n",
    "            new_width = max_width * height/ width\n",
    "        else:\n",
    "            print('Wersja 2')\n",
    "            new_width = max_width\n",
    "            new_height = max_height * width/ height\n",
    "    elif height >= max_height:\n",
    "        print('Tutaj 2')\n",
    "        print(height)\n",
    "        new_height = max_height\n",
    "        new_width = max_width * height/ width\n",
    "        print(new_height)\n",
    "    elif width >= max_width:\n",
    "        print('Tutaj 3')\n",
    "        new_width = max_width\n",
    "        new_height = max_height * width/ height\n",
    "    else:\n",
    "        print('Tutaj 4')\n",
    "        if height/ max_height < width / max_width:\n",
    "            print('Przypadek 1')\n",
    "            new_height = max_height\n",
    "            new_width = max_width * height/ width\n",
    "        else:\n",
    "            print('Przypadek 2')\n",
    "            new_width = max_width\n",
    "            new_height = max_height * width/ height\n",
    "    return new_height / PIXELS_PER_INCH , new_width / PIXELS_PER_INCH\n",
    "\n",
    "\n"
   ]
  },
  {
   "cell_type": "code",
   "execution_count": 534,
   "metadata": {},
   "outputs": [
    {
     "name": "stdout",
     "output_type": "stream",
     "text": [
      "6858000 12192000 1.7777777777777777 1.7777777777777777\n"
     ]
    }
   ],
   "source": [
    "print(prs.slide_height , prs.slide_width, prs.slide_width /prs.slide_height , 16/9) "
   ]
  },
  {
   "cell_type": "code",
   "execution_count": 535,
   "metadata": {},
   "outputs": [
    {
     "name": "stdout",
     "output_type": "stream",
     "text": [
      "Wwołanie\n",
      "Tutaj 4\n",
      "Przypadek 1\n"
     ]
    },
    {
     "data": {
      "text/plain": [
       "<pptx.shapes.picture.Picture at 0x1a253d18b88>"
      ]
     },
     "execution_count": 535,
     "metadata": {},
     "output_type": "execute_result"
    }
   ],
   "source": [
    "height , width = requaried_new_size_image(settings['first_image'],max_width= (PRS_WIDTH_INCHES -1 )* PIXELS_PER_INCH / 2)\n",
    "left = (PRS_WIDTH_INCHES/ 2 - width) /2 + PRS_WIDTH_INCHES/2\n",
    "top = (PRS_HEIGHT_INCHES - height )/ 2\n",
    "prs.slides[1].shapes.add_picture(settings['first_image'], left= Inches(left), top= Inches(top), width = Inches(width), height = Inches(height))"
   ]
  },
  {
   "cell_type": "code",
   "execution_count": 536,
   "metadata": {},
   "outputs": [
    {
     "name": "stdout",
     "output_type": "stream",
     "text": [
      "Wwołanie\n",
      "Tutaj 1\n",
      "Wersja 1\n",
      "Wwołanie\n",
      "Tutaj 1\n",
      "Wersja 1\n"
     ]
    },
    {
     "data": {
      "text/plain": [
       "<pptx.shapes.picture.Picture at 0x1a253d22588>"
      ]
     },
     "execution_count": 536,
     "metadata": {},
     "output_type": "execute_result"
    }
   ],
   "source": [
    "height , width = requaried_new_size_image(settings['second_image'],max_height = (PRS_HEIGHT_INCHES -2.5) * PIXELS_PER_INCH, max_width= (PRS_WIDTH_INCHES -1 )* PIXELS_PER_INCH / 2)\n",
    "left = (PRS_WIDTH_INCHES/ 2 - width) /2 \n",
    "top = (PRS_HEIGHT_INCHES + 1.5  - height )/ 2 \n",
    "prs.slides[2].shapes.add_picture(settings['second_image'], left= Inches(left), top= Inches(top), width = Inches(width), height = Inches(height))\n",
    "\n",
    "height , width = requaried_new_size_image(settings['third_image'],max_height = (PRS_HEIGHT_INCHES -2.5) * PIXELS_PER_INCH,max_width= (PRS_WIDTH_INCHES -1 )* PIXELS_PER_INCH / 2)\n",
    "left = (PRS_WIDTH_INCHES/ 2 - width) /2 + PRS_WIDTH_INCHES/2\n",
    "top = (PRS_HEIGHT_INCHES + 1.5 - height )/ 2 \n",
    "prs.slides[2].shapes.add_picture(settings['third_image'], left= Inches(left), top= Inches(top), width = Inches(width), height = Inches(height))\n"
   ]
  },
  {
   "cell_type": "code",
   "execution_count": 537,
   "metadata": {},
   "outputs": [
    {
     "name": "stdout",
     "output_type": "stream",
     "text": [
      "Wwołanie\n",
      "Tutaj 2\n",
      "797\n",
      "624.0\n"
     ]
    },
    {
     "data": {
      "text/plain": [
       "<pptx.shapes.picture.Picture at 0x1a253d1c848>"
      ]
     },
     "execution_count": 537,
     "metadata": {},
     "output_type": "execute_result"
    }
   ],
   "source": [
    "height , width = requaried_new_size_image(path_route)\n",
    "left = (PRS_WIDTH_INCHES - width )/ 2\n",
    "top = (PRS_HEIGHT_INCHES - height )/ 2\n",
    "prs.slides[4].shapes.add_picture(path_route, left=Inches(left),top=Inches(top), width= Inches(width) , height=Inches(height))\n",
    "# prs.slides[4].shapes.add_picture(path_route, left=Inches(1),top=Inches(1))\n",
    "# width=Inches(11), height=Inches(7)\n",
    "# prs.slides[4].shapes.add_picture(path_route, left=Inches(1),top=Inches(1), width= Inches(12) )"
   ]
  },
  {
   "cell_type": "code",
   "execution_count": 538,
   "metadata": {},
   "outputs": [
    {
     "data": {
      "text/plain": [
       "0"
      ]
     },
     "execution_count": 538,
     "metadata": {},
     "output_type": "execute_result"
    }
   ],
   "source": [
    "prs.save(\"testy.pptx\")\n",
    "os.system(\"testy.pptx\")"
   ]
  },
  {
   "cell_type": "code",
   "execution_count": null,
   "metadata": {},
   "outputs": [],
   "source": []
  },
  {
   "cell_type": "code",
   "execution_count": null,
   "metadata": {},
   "outputs": [],
   "source": []
  }
 ],
 "metadata": {
  "kernelspec": {
   "display_name": "Python 3.7.9 64-bit",
   "language": "python",
   "name": "python3"
  },
  "language_info": {
   "codemirror_mode": {
    "name": "ipython",
    "version": 3
   },
   "file_extension": ".py",
   "mimetype": "text/x-python",
   "name": "python",
   "nbconvert_exporter": "python",
   "pygments_lexer": "ipython3",
   "version": "3.7.9"
  },
  "orig_nbformat": 4,
  "vscode": {
   "interpreter": {
    "hash": "6fe1c782b1ce644a7249b60894882dc712170c605cbe70c487a65803b7cd19d5"
   }
  }
 },
 "nbformat": 4,
 "nbformat_minor": 2
}
