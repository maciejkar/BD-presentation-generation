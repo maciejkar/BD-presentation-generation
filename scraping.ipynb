{
 "cells": [
  {
   "cell_type": "code",
   "execution_count": 1,
   "metadata": {},
   "outputs": [],
   "source": [
    "from selenium import webdriver\n",
    "from webdriver_manager.chrome import ChromeDriverManager\n",
    "from selenium.webdriver.common.by import By\n",
    "from selenium.webdriver.support.ui import Select\n",
    "from bs4 import BeautifulSoup\n",
    "from PIL import Image\n",
    "import numpy as np\n",
    "import json\n",
    "from time import sleep\n",
    "\n"
   ]
  },
  {
   "cell_type": "code",
   "execution_count": 2,
   "metadata": {},
   "outputs": [
    {
     "name": "stdout",
     "output_type": "stream",
     "text": [
      "\n"
     ]
    },
    {
     "name": "stderr",
     "output_type": "stream",
     "text": [
      "[WDM] - ====== WebDriver manager ======\n",
      "[WDM] - Current google-chrome version is 103.0.5060\n",
      "[WDM] - Get LATEST chromedriver version for 103.0.5060 google-chrome\n",
      "[WDM] - Driver [C:\\Users\\mkarc\\.wdm\\drivers\\chromedriver\\win32\\103.0.5060.53\\chromedriver.exe] found in cache\n"
     ]
    }
   ],
   "source": [
    "chrome_driver = ChromeDriverManager().install()"
   ]
  },
  {
   "cell_type": "code",
   "execution_count": 3,
   "metadata": {},
   "outputs": [
    {
     "name": "stdout",
     "output_type": "stream",
     "text": [
      "\n"
     ]
    },
    {
     "name": "stderr",
     "output_type": "stream",
     "text": [
      "[WDM] - ====== WebDriver manager ======\n",
      "[WDM] - Current google-chrome version is 103.0.5060\n",
      "[WDM] - Get LATEST chromedriver version for 103.0.5060 google-chrome\n",
      "[WDM] - Driver [C:\\Users\\mkarc\\.wdm\\drivers\\chromedriver\\win32\\103.0.5060.53\\chromedriver.exe] found in cache\n",
      "c:\\Users\\mkarc\\AppData\\Local\\Programs\\Python\\Python37\\lib\\site-packages\\ipykernel_launcher.py:1: DeprecationWarning: executable_path has been deprecated, please pass in a Service object\n",
      "  \"\"\"Entry point for launching an IPython kernel.\n"
     ]
    }
   ],
   "source": [
    "driver = webdriver.Chrome(ChromeDriverManager().install())"
   ]
  },
  {
   "cell_type": "code",
   "execution_count": 4,
   "metadata": {},
   "outputs": [],
   "source": [
    "with open('settings.json',\"r\", encoding=\"utf-8\") as f:\n",
    "    login_password = json.load(f)\n",
    "log_path = 'https://mapa-turystyczna.pl/login'\n",
    "path ='https://mapa-turystyczna.pl/account/route/1391934'"
   ]
  },
  {
   "cell_type": "code",
   "execution_count": 5,
   "metadata": {},
   "outputs": [],
   "source": [
    "driver.get(log_path)"
   ]
  },
  {
   "cell_type": "code",
   "execution_count": 6,
   "metadata": {},
   "outputs": [],
   "source": [
    "#accept cookies\n",
    "driver.find_element(By.CLASS_NAME,'fc-button-label').click()\n"
   ]
  },
  {
   "cell_type": "code",
   "execution_count": 7,
   "metadata": {},
   "outputs": [
    {
     "data": {
      "text/plain": [
       "'białydunajec'"
      ]
     },
     "execution_count": 7,
     "metadata": {},
     "output_type": "execute_result"
    }
   ],
   "source": [
    "login_password[\"login\"]\n",
    "login_password[\"password\"]"
   ]
  },
  {
   "cell_type": "code",
   "execution_count": 8,
   "metadata": {},
   "outputs": [],
   "source": [
    "#login \n",
    "driver.find_element(By.NAME,\"signin[username]\").send_keys(login_password[\"login\"]) \n",
    "driver.find_element(By.NAME,\"signin[password]\").send_keys(login_password[\"password\"]) \n",
    "driver.find_element(By.CSS_SELECTOR,'.mdl-button--primary.mdl-button--primary.mdl-button--raised').click()\n",
    "sleep(2)\n",
    "\n"
   ]
  },
  {
   "cell_type": "code",
   "execution_count": 9,
   "metadata": {},
   "outputs": [],
   "source": [
    "driver.get(path)"
   ]
  },
  {
   "cell_type": "code",
   "execution_count": 10,
   "metadata": {},
   "outputs": [],
   "source": [
    "# get html code to scrap data such as distance\n",
    "html = driver.page_source\n"
   ]
  },
  {
   "cell_type": "code",
   "execution_count": 11,
   "metadata": {},
   "outputs": [
    {
     "data": {
      "text/plain": [
       "1211"
      ]
     },
     "execution_count": 11,
     "metadata": {},
     "output_type": "execute_result"
    }
   ],
   "source": [
    "soup = BeautifulSoup(html)\n",
    "heightest_point =soup.find('div', class_='ts-user-activity__data-inline-item').get_text()[25:].replace('\\n','').replace('\\t','').replace(',',', ')\n",
    "index = heightest_point.find(', ')\n",
    "max_height = int(heightest_point[index+2:index + 6])\n",
    "max_height"
   ]
  },
  {
   "cell_type": "code",
   "execution_count": 12,
   "metadata": {},
   "outputs": [],
   "source": [
    "data = soup.find_all(\"span\", class_= 'ts-user-activity__data-item-value ts-user-activity__data-item-value--primary')\n",
    "distance = data[0].get_text().strip()\n",
    "true_time = data[1].get_text().strip()\n",
    "up = data[2].get_text().strip()\n",
    "down = data[3].get_text().strip()"
   ]
  },
  {
   "cell_type": "code",
   "execution_count": 13,
   "metadata": {},
   "outputs": [
    {
     "data": {
      "text/plain": [
       "'4:47 h'"
      ]
     },
     "execution_count": 13,
     "metadata": {},
     "output_type": "execute_result"
    }
   ],
   "source": [
    "true_time"
   ]
  },
  {
   "cell_type": "code",
   "execution_count": 36,
   "metadata": {},
   "outputs": [],
   "source": [
    "def true_time_to_time(scrap_time : str , mul : float ):  \n",
    "    \"\"\"Czas zeskrapowany w formacie hh:mm 'h' zminia na sa hh 'h' mnożąc czas przes zdefiniowaną stałą np \n",
    "    4:47 h zmienia na 6 h dla stałej wynoszącej 1.2\"\"\"\n",
    "    time = scrap_time[:-2]\n",
    "    return str(round((int(time[0]) + int(time[2:4])/60) * mul )) + ' h'"
   ]
  },
  {
   "cell_type": "code",
   "execution_count": 37,
   "metadata": {},
   "outputs": [
    {
     "data": {
      "text/plain": [
       "'6 h'"
      ]
     },
     "execution_count": 37,
     "metadata": {},
     "output_type": "execute_result"
    }
   ],
   "source": [
    "true_time_to_time(true_time,1.2)"
   ]
  },
  {
   "cell_type": "code",
   "execution_count": 34,
   "metadata": {},
   "outputs": [
    {
     "data": {
      "text/plain": [
       "'47'"
      ]
     },
     "execution_count": 34,
     "metadata": {},
     "output_type": "execute_result"
    }
   ],
   "source": [
    "true_time[2:4]"
   ]
  },
  {
   "cell_type": "code",
   "execution_count": 14,
   "metadata": {},
   "outputs": [
    {
     "name": "stdout",
     "output_type": "stream",
     "text": [
      "386.464996\n",
      "824 m\n"
     ]
    }
   ],
   "source": [
    "\n",
    "profil_json= json.loads(soup.find('div', class_=\"ts-user-activity__profile ts-profile-container\").attrs[\"data-profile\"])\n",
    "\n",
    "min_height = 2000\n",
    "for dict in profil_json['segments']:\n",
    "    # print(dict)\n",
    "    temp = dict['elevation']\n",
    "    if temp < min_height:\n",
    "        min_height = temp\n",
    "\n",
    "print(min_height)\n",
    "elevation_gain = f'{int(max_height - min_height)} m'\n",
    "print(elevation_gain)"
   ]
  },
  {
   "cell_type": "code",
   "execution_count": 15,
   "metadata": {},
   "outputs": [
    {
     "data": {
      "text/plain": [
       "True"
      ]
     },
     "execution_count": 15,
     "metadata": {},
     "output_type": "execute_result"
    }
   ],
   "source": [
    "#go to proile and save it \n",
    "driver.get(path + '/profile')\n",
    "sleep(1)\n",
    "select = Select(driver.find_element(By.ID,'profile-size-type'))\n",
    "select.select_by_visible_text('Szeroki')\n",
    "driver.find_element(By.ID,'ts-ep-static').screenshot('zdjecie.png')"
   ]
  },
  {
   "cell_type": "code",
   "execution_count": 3,
   "metadata": {},
   "outputs": [],
   "source": [
    "#cover time in profile\n",
    "img= Image.open('zdjecie.png')\n",
    "im = np.array(img)\n",
    "im[0:65,0:400] = [255, 255, 255, 255]\n",
    "Image.fromarray(im).save('zdjecie.png')"
   ]
  },
  {
   "cell_type": "markdown",
   "metadata": {},
   "source": []
  },
  {
   "cell_type": "code",
   "execution_count": 5,
   "metadata": {},
   "outputs": [
    {
     "data": {
      "text/plain": [
       "(362, 960, 4)"
      ]
     },
     "execution_count": 5,
     "metadata": {},
     "output_type": "execute_result"
    }
   ],
   "source": [
    "im.shape"
   ]
  },
  {
   "cell_type": "code",
   "execution_count": 6,
   "metadata": {},
   "outputs": [
    {
     "data": {
      "image/png": "[encoded data removed]",
      "text/plain": [
       "<PIL.PngImagePlugin.PngImageFile image mode=RGBA size=960x362 at 0x21A46EB3188>"
      ]
     },
     "execution_count": 6,
     "metadata": {},
     "output_type": "execute_result"
    }
   ],
   "source": [
    "img"
   ]
  },
  {
   "cell_type": "code",
   "execution_count": null,
   "metadata": {},
   "outputs": [],
   "source": []
  }
 ],
 "metadata": {
  "kernelspec": {
   "display_name": "Python 3.7.9 64-bit",
   "language": "python",
   "name": "python3"
  },
  "language_info": {
   "codemirror_mode": {
    "name": "ipython",
    "version": 3
   },
   "file_extension": ".py",
   "mimetype": "text/x-python",
   "name": "python",
   "nbconvert_exporter": "python",
   "pygments_lexer": "ipython3",
   "version": "3.7.9"
  },
  "orig_nbformat": 4,
  "vscode": {
   "interpreter": {
    "hash": "6fe1c782b1ce644a7249b60894882dc712170c605cbe70c487a65803b7cd19d5"
   }
  }
 },
 "nbformat": 4,
 "nbformat_minor": 2
}
